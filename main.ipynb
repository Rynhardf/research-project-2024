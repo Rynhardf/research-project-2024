{
 "cells": [
  {
   "cell_type": "code",
   "execution_count": 1,
   "metadata": {},
   "outputs": [],
   "source": [
    "from train import train_model\n",
    "from utils import load_config, load_model, inference\n",
    "from utils import visualize_output, get_keypoints_from_heatmaps\n",
    "import cv2\n",
    "import numpy as np\n",
    "from dataset import PoseDataset\n",
    "import torch"
   ]
  },
  {
   "cell_type": "code",
   "execution_count": 2,
   "metadata": {},
   "outputs": [],
   "source": [
    "config = load_config('./config_w48_384x288.yaml')\n",
    "# config['model']['weights'] = 'weights_epoch_5.pth'"
   ]
  },
  {
   "cell_type": "code",
   "execution_count": 3,
   "metadata": {},
   "outputs": [],
   "source": [
    "dataset = PoseDataset(config[\"dataset\"], config[\"dataset\"]['val'])\n",
    "# get one sample from the dataset\n",
    "# image,target,keypoints_gt,keypoint_visibility = dataset[334]\n",
    "# image,target,keypoints_gt,keypoint_visibility = dataset[632]\n",
    "image,target,keypoints_gt,keypoint_visibility = dataset[191]"
   ]
  },
  {
   "cell_type": "code",
   "execution_count": 4,
   "metadata": {},
   "outputs": [],
   "source": [
    "# image = cv2.imread(\"./example_images/demo_cropped.jpg\")\n",
    "# image = cv2.cvtColor(image, cv2.COLOR_BGR2RGB)\n",
    "# image = cv2.resize(image, (384, 288))\n",
    "# image = image.transpose(2, 0, 1)\n",
    "# image = image.astype(np.float32)\n",
    "# image /= 255.0\n",
    "\n",
    "# image = torch.tensor(image)"
   ]
  },
  {
   "cell_type": "code",
   "execution_count": 5,
   "metadata": {},
   "outputs": [],
   "source": [
    "result = inference(config, image.unsqueeze(0))\n",
    "\n",
    "keypoints = get_keypoints_from_heatmaps(result, (image.shape[1], image.shape[2]))"
   ]
  },
  {
   "cell_type": "code",
   "execution_count": 6,
   "metadata": {},
   "outputs": [
    {
     "name": "stdout",
     "output_type": "stream",
     "text": [
      "torch.Size([3, 384, 288])\n"
     ]
    }
   ],
   "source": [
    "config = load_config('./config_w48_384x288.yaml')\n",
    "result = inference(config, image.unsqueeze(0))\n",
    "\n",
    "keypoints_org = get_keypoints_from_heatmaps(result, (image.shape[1], image.shape[2]))\n",
    "print(image.shape)"
   ]
  },
  {
   "cell_type": "code",
   "execution_count": 7,
   "metadata": {},
   "outputs": [],
   "source": [
    "image_show = image.permute(1,2,0).numpy()\n",
    "image_show = cv2.cvtColor(image_show, cv2.COLOR_RGB2BGR)\n",
    "\n",
    "\n",
    "for i in range(keypoints_org.shape[1]):\n",
    "    cv2.circle(image_show, (int(keypoints_org[0][i][0]), int(keypoints_org[0][i][1])), 3, (0,0,255), -1)\n",
    "\n",
    "for i in range(len(keypoints_gt)):\n",
    "    cv2.circle(image_show, (int(keypoints_gt[i][0]), int(keypoints_gt[i][1])), 3, (0,255,0), -1)\n",
    "\n",
    "for i in range(keypoints.shape[1]):\n",
    "    cv2.circle(image_show, (int(keypoints[0][i][0]), int(keypoints[0][i][1])), 2, (255,0,0), -1)\n",
    "\n",
    "# add labels\n",
    "cv2.putText(image_show, 'Ground Truth', (10, 30), cv2.FONT_HERSHEY_SIMPLEX, 0.3, (0, 255, 0), 1)\n",
    "cv2.putText(image_show, 'Predicted', (10, 60), cv2.FONT_HERSHEY_SIMPLEX, 0.3, (255, 0, 0), 1)\n",
    "cv2.putText(image_show, 'Predicted Org', (10, 90), cv2.FONT_HERSHEY_SIMPLEX, 0.3, (0, 0, 255), 1)\n",
    "\n",
    "cv2.imshow('image_gt', image_show)\n",
    "\n",
    "cv2.waitKey(0)\n",
    "cv2.destroyAllWindows()"
   ]
  }
 ],
 "metadata": {
  "kernelspec": {
   "display_name": "Python 3",
   "language": "python",
   "name": "python3"
  },
  "language_info": {
   "codemirror_mode": {
    "name": "ipython",
    "version": 3
   },
   "file_extension": ".py",
   "mimetype": "text/x-python",
   "name": "python",
   "nbconvert_exporter": "python",
   "pygments_lexer": "ipython3",
   "version": "3.11.1"
  }
 },
 "nbformat": 4,
 "nbformat_minor": 2
}
