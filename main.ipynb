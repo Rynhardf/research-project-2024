{
 "cells": [
  {
   "cell_type": "code",
   "execution_count": 1,
   "metadata": {},
   "outputs": [],
   "source": [
    "from train import train_model\n",
    "from utils import load_config, load_model, inference\n",
    "from utils import visualize_output, get_keypoints_from_heatmaps\n",
    "import cv2\n",
    "import numpy as np\n",
    "from dataset import PoseDataset\n",
    "import torch"
   ]
  },
  {
   "cell_type": "code",
   "execution_count": 2,
   "metadata": {},
   "outputs": [],
   "source": [
    "config = load_config('./config_w48_384x288.yaml')\n",
    "# config['model']['weights'] = 'weights (2).pth'"
   ]
  },
  {
   "cell_type": "code",
   "execution_count": 3,
   "metadata": {},
   "outputs": [
    {
     "ename": "ValueError",
     "evalue": "not enough values to unpack (expected 3, got 2)",
     "output_type": "error",
     "traceback": [
      "\u001b[1;31m---------------------------------------------------------------------------\u001b[0m",
      "\u001b[1;31mValueError\u001b[0m                                Traceback (most recent call last)",
      "Cell \u001b[1;32mIn[3], line 3\u001b[0m\n\u001b[0;32m      1\u001b[0m dataset \u001b[38;5;241m=\u001b[39m PoseDataset(config[\u001b[38;5;124m\"\u001b[39m\u001b[38;5;124mdataset\u001b[39m\u001b[38;5;124m\"\u001b[39m], config[\u001b[38;5;124m\"\u001b[39m\u001b[38;5;124mdataset\u001b[39m\u001b[38;5;124m\"\u001b[39m][\u001b[38;5;124m'\u001b[39m\u001b[38;5;124mval\u001b[39m\u001b[38;5;124m'\u001b[39m])\n\u001b[0;32m      2\u001b[0m \u001b[38;5;66;03m# get one sample from the dataset\u001b[39;00m\n\u001b[1;32m----> 3\u001b[0m image,target,keypoints_gt \u001b[38;5;241m=\u001b[39m \u001b[43mdataset\u001b[49m\u001b[43m[\u001b[49m\u001b[38;5;241;43m334\u001b[39;49m\u001b[43m]\u001b[49m\n\u001b[0;32m      4\u001b[0m \u001b[38;5;66;03m# image,target,keypoints_gt = dataset[632]\u001b[39;00m\n\u001b[0;32m      5\u001b[0m \u001b[38;5;66;03m# image,target,keypoints_gt = dataset[6532]\u001b[39;00m\n",
      "File \u001b[1;32md:\\research-project-2024\\dataset.py:102\u001b[0m, in \u001b[0;36mPoseDataset.__getitem__\u001b[1;34m(self, idx)\u001b[0m\n\u001b[0;32m     98\u001b[0m image, keypoints \u001b[38;5;241m=\u001b[39m \u001b[38;5;28mself\u001b[39m\u001b[38;5;241m.\u001b[39mload_sample(idx)\n\u001b[0;32m    100\u001b[0m image, keypoints, keypoint_visibility \u001b[38;5;241m=\u001b[39m \u001b[38;5;28mself\u001b[39m\u001b[38;5;241m.\u001b[39mpreprocess(image, keypoints)\n\u001b[1;32m--> 102\u001b[0m heatmaps \u001b[38;5;241m=\u001b[39m \u001b[38;5;28;43mself\u001b[39;49m\u001b[38;5;241;43m.\u001b[39;49m\u001b[43mgenerate_heatmaps\u001b[49m\u001b[43m(\u001b[49m\u001b[43mkeypoints\u001b[49m\u001b[43m)\u001b[49m\n\u001b[0;32m    104\u001b[0m image \u001b[38;5;241m=\u001b[39m torch\u001b[38;5;241m.\u001b[39mtensor(image, dtype\u001b[38;5;241m=\u001b[39mtorch\u001b[38;5;241m.\u001b[39mfloat32)\u001b[38;5;241m.\u001b[39mpermute(\u001b[38;5;241m2\u001b[39m, \u001b[38;5;241m0\u001b[39m, \u001b[38;5;241m1\u001b[39m)\n\u001b[0;32m    105\u001b[0m heatmaps \u001b[38;5;241m=\u001b[39m torch\u001b[38;5;241m.\u001b[39mfrom_numpy(heatmaps)\u001b[38;5;241m.\u001b[39mfloat()\n",
      "File \u001b[1;32md:\\research-project-2024\\dataset.py:136\u001b[0m, in \u001b[0;36mPoseDataset.generate_heatmaps\u001b[1;34m(self, keypoints)\u001b[0m\n\u001b[0;32m    133\u001b[0m normalized_keypoints[:, \u001b[38;5;241m1\u001b[39m] \u001b[38;5;241m=\u001b[39m normalized_keypoints[:, \u001b[38;5;241m1\u001b[39m] \u001b[38;5;241m/\u001b[39m \u001b[38;5;28mself\u001b[39m\u001b[38;5;241m.\u001b[39mimage_size[\u001b[38;5;241m1\u001b[39m]\n\u001b[0;32m    135\u001b[0m \u001b[38;5;28;01mfor\u001b[39;00m i, keypoint \u001b[38;5;129;01min\u001b[39;00m \u001b[38;5;28menumerate\u001b[39m(normalized_keypoints):\n\u001b[1;32m--> 136\u001b[0m     heatmaps[i] \u001b[38;5;241m=\u001b[39m \u001b[38;5;28;43mself\u001b[39;49m\u001b[38;5;241;43m.\u001b[39;49m\u001b[43mgaussian_2d\u001b[49m\u001b[43m(\u001b[49m\u001b[38;5;28;43mself\u001b[39;49m\u001b[38;5;241;43m.\u001b[39;49m\u001b[43moutput_size\u001b[49m\u001b[43m,\u001b[49m\u001b[43m \u001b[49m\u001b[43mkeypoint\u001b[49m\u001b[43m,\u001b[49m\u001b[43m \u001b[49m\u001b[38;5;28;43mself\u001b[39;49m\u001b[38;5;241;43m.\u001b[39;49m\u001b[43msigma\u001b[49m\u001b[43m)\u001b[49m\n\u001b[0;32m    138\u001b[0m \u001b[38;5;28;01mreturn\u001b[39;00m heatmaps\n",
      "File \u001b[1;32md:\\research-project-2024\\dataset.py:144\u001b[0m, in \u001b[0;36mPoseDataset.gaussian_2d\u001b[1;34m(self, size, center, sigma)\u001b[0m\n\u001b[0;32m    142\u001b[0m y \u001b[38;5;241m=\u001b[39m np\u001b[38;5;241m.\u001b[39marange(\u001b[38;5;241m0\u001b[39m, size[\u001b[38;5;241m1\u001b[39m], \u001b[38;5;241m1\u001b[39m, np\u001b[38;5;241m.\u001b[39mfloat32)\n\u001b[0;32m    143\u001b[0m y \u001b[38;5;241m=\u001b[39m y[:, np\u001b[38;5;241m.\u001b[39mnewaxis]\n\u001b[1;32m--> 144\u001b[0m x0, y0, v \u001b[38;5;241m=\u001b[39m center\n\u001b[0;32m    146\u001b[0m x0 \u001b[38;5;241m=\u001b[39m x0 \u001b[38;5;241m*\u001b[39m size[\u001b[38;5;241m0\u001b[39m]\n\u001b[0;32m    147\u001b[0m y0 \u001b[38;5;241m=\u001b[39m y0 \u001b[38;5;241m*\u001b[39m size[\u001b[38;5;241m1\u001b[39m]\n",
      "\u001b[1;31mValueError\u001b[0m: not enough values to unpack (expected 3, got 2)"
     ]
    }
   ],
   "source": [
    "dataset = PoseDataset(config[\"dataset\"], config[\"dataset\"]['val'])\n",
    "# get one sample from the dataset\n",
    "image,target,keypoints_gt = dataset[334]\n",
    "# image,target,keypoints_gt = dataset[632]\n",
    "# image,target,keypoints_gt = dataset[6532]"
   ]
  },
  {
   "cell_type": "code",
   "execution_count": 52,
   "metadata": {},
   "outputs": [],
   "source": [
    "# image = cv2.imread(\"./example_images/demo_cropped.jpg\")\n",
    "# image = cv2.cvtColor(image, cv2.COLOR_BGR2RGB)\n",
    "# image = cv2.resize(image, (384, 288))\n",
    "# image = image.transpose(2, 0, 1)\n",
    "# image = image.astype(np.float32)\n",
    "# image /= 255.0\n",
    "\n",
    "# image = torch.tensor(image)"
   ]
  },
  {
   "cell_type": "code",
   "execution_count": 8,
   "metadata": {},
   "outputs": [
    {
     "name": "stdout",
     "output_type": "stream",
     "text": [
      "torch.Size([3, 384, 288])\n"
     ]
    }
   ],
   "source": [
    "result = inference(config, image.unsqueeze(0))\n",
    "result = result.detach().cpu().numpy()\n",
    "\n",
    "keypoints = get_keypoints_from_heatmaps(result, (image.shape[1], image.shape[2]))"
   ]
  },
  {
   "cell_type": "code",
   "execution_count": 60,
   "metadata": {},
   "outputs": [],
   "source": [
    "config = load_config('./config_w48_384x288.yaml')\n",
    "result = inference(config, image.unsqueeze(0))\n",
    "result = result.detach().cpu().numpy()\n",
    "\n",
    "keypoints_org = get_keypoints_from_heatmaps(result, (image.shape[1], image.shape[2]))"
   ]
  },
  {
   "cell_type": "code",
   "execution_count": 61,
   "metadata": {},
   "outputs": [],
   "source": [
    "image_show = image.permute(1,2,0).numpy()\n",
    "image_show = cv2.cvtColor(image_show, cv2.COLOR_RGB2BGR)\n",
    "\n",
    "\n",
    "for i in range(keypoints_org.shape[1]):\n",
    "    cv2.circle(image_show, (int(keypoints_org[0][i][0]), int(keypoints_org[0][i][1])), 3, (0,0,255), -1)\n",
    "\n",
    "for i in range(len(keypoints_gt)):\n",
    "    cv2.circle(image_show, (int(keypoints_gt[i][0]), int(keypoints_gt[i][1])), 3, (0,255,0), -1)\n",
    "\n",
    "for i in range(keypoints.shape[1]):\n",
    "    cv2.circle(image_show, (int(keypoints[0][i][0]), int(keypoints[0][i][1])), 2, (255,0,0), -1)\n",
    "\n",
    "# add labels\n",
    "cv2.putText(image_show, 'Ground Truth', (10, 30), cv2.FONT_HERSHEY_SIMPLEX, 0.3, (0, 255, 0), 1)\n",
    "cv2.putText(image_show, 'Predicted', (10, 60), cv2.FONT_HERSHEY_SIMPLEX, 0.3, (255, 0, 0), 1)\n",
    "cv2.putText(image_show, 'Predicted Org', (10, 90), cv2.FONT_HERSHEY_SIMPLEX, 0.3, (0, 0, 255), 1)\n",
    "\n",
    "cv2.imshow('image_gt', image_show)\n",
    "\n",
    "cv2.waitKey(0)\n",
    "cv2.destroyAllWindows()"
   ]
  }
 ],
 "metadata": {
  "kernelspec": {
   "display_name": "Python 3",
   "language": "python",
   "name": "python3"
  },
  "language_info": {
   "codemirror_mode": {
    "name": "ipython",
    "version": 3
   },
   "file_extension": ".py",
   "mimetype": "text/x-python",
   "name": "python",
   "nbconvert_exporter": "python",
   "pygments_lexer": "ipython3",
   "version": "3.11.1"
  }
 },
 "nbformat": 4,
 "nbformat_minor": 2
}
