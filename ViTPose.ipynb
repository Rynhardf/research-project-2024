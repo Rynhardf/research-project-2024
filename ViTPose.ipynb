{
 "cells": [
  {
   "cell_type": "code",
   "execution_count": 11,
   "metadata": {},
   "outputs": [],
   "source": [
    "import torch\n",
    "from models.ViTPose.vitpose import get_vitpose_model\n",
    "import cv2\n",
    "from utils import get_keypoints_from_heatmaps"
   ]
  },
  {
   "cell_type": "code",
   "execution_count": 24,
   "metadata": {},
   "outputs": [],
   "source": [
    "model = get_vitpose_model(\"B\",17,\"simple\")"
   ]
  },
  {
   "cell_type": "code",
   "execution_count": 25,
   "metadata": {},
   "outputs": [
    {
     "name": "stdout",
     "output_type": "stream",
     "text": [
      "Missing keys:  ['backbone.cls_token']\n"
     ]
    }
   ],
   "source": [
    "weights = torch.load(\"./weights/vitpose-b-simple.pth\")['state_dict']\n",
    "model.init_weights(weights)"
   ]
  },
  {
   "cell_type": "code",
   "execution_count": 21,
   "metadata": {},
   "outputs": [
    {
     "name": "stdout",
     "output_type": "stream",
     "text": [
      "torch.Size([1, 3, 256, 192])\n"
     ]
    }
   ],
   "source": [
    "img_path = \"./example_images/demo_cropped.jpg\"\n",
    "img = cv2.imread(img_path)\n",
    "# img = cv2.cvtColor(img, cv2.COLOR_BGR2RGB)\n",
    "img = cv2.resize(img, (192, 256))\n",
    "img = img / 255.0\n",
    "mean = [0.485, 0.456, 0.406]\n",
    "std = [0.229, 0.224, 0.225]\n",
    "img = (img - mean) / std\n",
    "img = torch.tensor(img).permute(2, 0, 1).unsqueeze(0).float()\n",
    "\n",
    "print(img.shape)"
   ]
  },
  {
   "cell_type": "code",
   "execution_count": 22,
   "metadata": {},
   "outputs": [
    {
     "name": "stdout",
     "output_type": "stream",
     "text": [
      "torch.Size([1, 17, 64, 48])\n"
     ]
    }
   ],
   "source": [
    "model.eval()\n",
    "\n",
    "with torch.no_grad():\n",
    "    out = model(img)\n",
    "    print(out.shape)"
   ]
  },
  {
   "cell_type": "code",
   "execution_count": 23,
   "metadata": {},
   "outputs": [],
   "source": [
    "image_show = cv2.imread(img_path)\n",
    "image_show = cv2.resize(image_show, (192, 256))\n",
    "# heatmaps = out.permute(0, 1, 3, 2)\n",
    "heatmaps = out\n",
    "\n",
    "# get keypoints from (17, 64, 48) heatmap\n",
    "keypoints = get_keypoints_from_heatmaps(heatmaps, (256, 192))[0]\n",
    "\n",
    "# # sum all the heatmaps\n",
    "# heatmap = heatmaps.sum(axis=0).cpu().numpy()\n",
    "\n",
    "# # normalize the heatmap\n",
    "# heatmap = (heatmap - heatmap.min()) / (heatmap.max() - heatmap.min())\n",
    "\n",
    "# heatmap = cv2.resize(heatmap, (192, 256))\n",
    "# heatmap = cv2.applyColorMap((heatmap * 255).astype('uint8'), cv2.COLORMAP_JET)\n",
    "\n",
    "for i, keypoint in enumerate(keypoints):\n",
    "    x, y = keypoint\n",
    "    cv2.circle(image_show, (int(x), int(y)), 3, (0, 255, 0), -1)\n",
    "\n",
    "# cv2.imshow(\"heatmap\", heatmap)\n",
    "cv2.imshow(\"keypoints\", image_show)\n",
    "cv2.waitKey(0)\n",
    "cv2.destroyAllWindows()"
   ]
  }
 ],
 "metadata": {
  "kernelspec": {
   "display_name": "Python 3",
   "language": "python",
   "name": "python3"
  },
  "language_info": {
   "codemirror_mode": {
    "name": "ipython",
    "version": 3
   },
   "file_extension": ".py",
   "mimetype": "text/x-python",
   "name": "python",
   "nbconvert_exporter": "python",
   "pygments_lexer": "ipython3",
   "version": "3.11.1"
  }
 },
 "nbformat": 4,
 "nbformat_minor": 2
}
