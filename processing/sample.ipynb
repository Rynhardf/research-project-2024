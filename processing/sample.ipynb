{
 "cells": [
  {
   "cell_type": "markdown",
   "metadata": {},
   "source": [
    "This notebook uses the `raw.csv` file to sample a fixed number of rows from the dataset. It saves all the images in one folder and creates a new csv file with the sampled rows. It samples uniformly accross views and subjects. It creates a `frames.csv` file with the sampled rows and a `frames` with the images."
   ]
  },
  {
   "cell_type": "code",
   "execution_count": 6,
   "metadata": {},
   "outputs": [],
   "source": [
    "import pandas as pd\n",
    "import tqdm\n",
    "import os\n",
    "import shutil"
   ]
  },
  {
   "cell_type": "code",
   "execution_count": 7,
   "metadata": {},
   "outputs": [],
   "source": [
    "df = pd.read_csv('../data/raw.csv')"
   ]
  },
  {
   "cell_type": "markdown",
   "metadata": {},
   "source": [
    "Explore number of items in the dataset and the number of unique subjects and views."
   ]
  },
  {
   "cell_type": "code",
   "execution_count": 8,
   "metadata": {},
   "outputs": [
    {
     "name": "stdout",
     "output_type": "stream",
     "text": [
      "C  S \n",
      "1  1     16775\n",
      "   2      4827\n",
      "   7     14269\n",
      "   8      7655\n",
      "   9     10224\n",
      "   21    19964\n",
      "2  1     13960\n",
      "   2      4919\n",
      "   7      7315\n",
      "   8      7118\n",
      "   9      6165\n",
      "   21    19840\n",
      "3  1     13563\n",
      "   2      6398\n",
      "   7     15033\n",
      "   8     11791\n",
      "   9      9773\n",
      "   21    19913\n",
      "4  1     14666\n",
      "   2      9962\n",
      "   7     13052\n",
      "   8      8738\n",
      "   9      2940\n",
      "   21    20026\n",
      "   22    14711\n",
      "   23    21014\n",
      "   24    16583\n",
      "   25    18855\n",
      "   26    16426\n",
      "   27    21037\n",
      "   28    15186\n",
      "5  1     12992\n",
      "   2      4527\n",
      "   7      9076\n",
      "   8     11086\n",
      "   9      7615\n",
      "   21    19988\n",
      "6  1     14412\n",
      "   2      7100\n",
      "   7      5605\n",
      "   8      6250\n",
      "   9      9723\n",
      "   21    20215\n",
      "dtype: int64\n"
     ]
    }
   ],
   "source": [
    "total_num = len(df)\n",
    "\n",
    "# get total unique values in C column\n",
    "num_C = df['C'].nunique()\n",
    "num_S = df['S'].nunique()\n",
    "num_A = df['A'].nunique()\n",
    "num_D = df['D'].nunique()\n",
    "\n",
    "# get number per C\n",
    "num_per_C = df.groupby('C').size()\n",
    "\n",
    "# for each C get numbers per S\n",
    "num_per_C_S = df.groupby(['C', 'S']).size()\n",
    "\n",
    "print(num_per_C_S)"
   ]
  },
  {
   "cell_type": "markdown",
   "metadata": {},
   "source": [
    "Sample"
   ]
  },
  {
   "cell_type": "code",
   "execution_count": 13,
   "metadata": {},
   "outputs": [
    {
     "name": "stdout",
     "output_type": "stream",
     "text": [
      "72000\n"
     ]
    }
   ],
   "source": [
    "N = 72000 # number of samples\n",
    "N_per_C = N // num_C\n",
    "subjects = [1,2,7,8,9,21]\n",
    "num_S = len(subjects)\n",
    "N_per_S_per_C = N_per_C // num_S + 1\n",
    "\n",
    "new_df = pd.DataFrame()\n",
    "\n",
    "for c in range(1, num_C+1):\n",
    "    for s in subjects:\n",
    "        subset = df[(df['C'] == c) & (df['S'] == s)]\n",
    "        # get random sample\n",
    "        sample = subset.sample(n=N_per_S_per_C)\n",
    "        new_df = pd.concat([new_df, sample])\n",
    "\n",
    "new_df = new_df[:N]\n",
    "new_df = new_df.sample(frac=1)\n",
    "print(len(new_df))"
   ]
  },
  {
   "cell_type": "markdown",
   "metadata": {},
   "source": [
    "Move images and update names"
   ]
  },
  {
   "cell_type": "code",
   "execution_count": 14,
   "metadata": {},
   "outputs": [
    {
     "name": "stderr",
     "output_type": "stream",
     "text": [
      "100%|██████████| 72000/72000 [52:03<00:00, 23.05it/s]  \n"
     ]
    }
   ],
   "source": [
    "root = \"E:\\data_processed\"\n",
    "save_dir = \"../data/frames\"\n",
    "\n",
    "if not os.path.exists(save_dir):\n",
    "    os.makedirs(save_dir)\n",
    "\n",
    "for i, row in tqdm.tqdm(new_df.iterrows(), total=len(new_df)):\n",
    "    img_path = row['img_path']\n",
    "    img_path = os.path.join(root, img_path)\n",
    "    img_name = os.path.basename(img_path)\n",
    "    new_img_path = os.path.join(save_dir, img_name)\n",
    "    shutil.copy(img_path, new_img_path)\n",
    "\n",
    "    new_df.at[i, 'img_path'] = img_name\n",
    "\n",
    "new_df.to_csv('../data/frames.csv', index=False)"
   ]
  }
 ],
 "metadata": {
  "kernelspec": {
   "display_name": "Python 3",
   "language": "python",
   "name": "python3"
  },
  "language_info": {
   "codemirror_mode": {
    "name": "ipython",
    "version": 3
   },
   "file_extension": ".py",
   "mimetype": "text/x-python",
   "name": "python",
   "nbconvert_exporter": "python",
   "pygments_lexer": "ipython3",
   "version": "3.11.1"
  }
 },
 "nbformat": 4,
 "nbformat_minor": 2
}
