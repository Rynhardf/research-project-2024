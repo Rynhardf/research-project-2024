{
 "cells": [
  {
   "cell_type": "markdown",
   "metadata": {},
   "source": [
    "This notebook is very simple. It reads `cropped.csv` and splits it into a training and a validation set. It is split equally on views."
   ]
  },
  {
   "cell_type": "code",
   "execution_count": 29,
   "metadata": {},
   "outputs": [],
   "source": [
    "import pandas as pd\n",
    "import numpy as np\n",
    "import cv2\n",
    "import os"
   ]
  },
  {
   "cell_type": "code",
   "execution_count": 30,
   "metadata": {},
   "outputs": [],
   "source": [
    "df = pd.read_csv('../data/cropped.csv')\n",
    "df = df.sample(frac=1).reset_index(drop=True)"
   ]
  },
  {
   "cell_type": "code",
   "execution_count": 31,
   "metadata": {},
   "outputs": [],
   "source": [
    "num_train = 60_000\n",
    "num_val = 6_000\n",
    "num_C = df['C'].nunique()\n",
    "\n",
    "num_train_C = num_train // num_C\n",
    "num_val_C = num_val // num_C"
   ]
  },
  {
   "cell_type": "code",
   "execution_count": 36,
   "metadata": {},
   "outputs": [],
   "source": [
    "train_df = pd.DataFrame()\n",
    "val_df = pd.DataFrame()\n",
    "\n",
    "for C in df['C'].unique():\n",
    "    C_df = df[df['C'] == C]\n",
    "    train_df_c = C_df[:num_train_C]\n",
    "    val_df_c = C_df[num_train_C:num_train_C+num_val_C]\n",
    "\n",
    "    if train_df.empty:\n",
    "        train_df = train_df_c\n",
    "    else:\n",
    "        train_df = pd.concat([train_df, train_df_c])\n",
    "    \n",
    "    if val_df.empty:\n",
    "        val_df = val_df_c\n",
    "    else:\n",
    "        val_df = pd.concat([val_df, val_df_c])"
   ]
  },
  {
   "cell_type": "code",
   "execution_count": 37,
   "metadata": {},
   "outputs": [
    {
     "name": "stdout",
     "output_type": "stream",
     "text": [
      "60000\n",
      "6000\n"
     ]
    }
   ],
   "source": [
    "print(len(train_df))\n",
    "print(len(val_df))"
   ]
  },
  {
   "cell_type": "code",
   "execution_count": 38,
   "metadata": {},
   "outputs": [],
   "source": [
    "train_df.to_csv('../data/train.csv', index=False)\n",
    "val_df.to_csv('../data/val.csv', index=False)"
   ]
  }
 ],
 "metadata": {
  "kernelspec": {
   "display_name": "base",
   "language": "python",
   "name": "python3"
  },
  "language_info": {
   "codemirror_mode": {
    "name": "ipython",
    "version": 3
   },
   "file_extension": ".py",
   "mimetype": "text/x-python",
   "name": "python",
   "nbconvert_exporter": "python",
   "pygments_lexer": "ipython3",
   "version": "3.11.9"
  }
 },
 "nbformat": 4,
 "nbformat_minor": 2
}
