{
 "cells": [
  {
   "cell_type": "markdown",
   "metadata": {},
   "source": [
    "This notebook is to generate a dataset to use with ultralytics YOLO-pose training"
   ]
  },
  {
   "cell_type": "code",
   "execution_count": 5,
   "metadata": {},
   "outputs": [],
   "source": [
    "import os\n",
    "import pandas as pd\n",
    "import numpy as np\n",
    "import yaml\n",
    "import shutil\n",
    "import cv2\n",
    "import tqdm"
   ]
  },
  {
   "cell_type": "code",
   "execution_count": 6,
   "metadata": {},
   "outputs": [],
   "source": [
    "keypoint_set = 'small_17'\n",
    "data_root = '../data'\n",
    "data_path = 'YOLO_' + keypoint_set\n",
    "\n",
    "# rm -rf data_root/YOLO\n",
    "shutil.rmtree(f'{data_root}/{data_path}', ignore_errors=True)\n",
    "\n",
    "os.makedirs(f'{data_root}/{data_path}', exist_ok=True)\n",
    "\n",
    "keypoints = yaml.load(open(f'../configs/keypoint_sets.yaml'), Loader=yaml.FullLoader)\n",
    "keypoints = keypoints[keypoint_set]"
   ]
  },
  {
   "cell_type": "code",
   "execution_count": 7,
   "metadata": {},
   "outputs": [],
   "source": [
    "def generate_set(filename):\n",
    "    set_dir = os.path.join(data_root, data_path, filename)\n",
    "    os.makedirs(set_dir, exist_ok=True)\n",
    "    os.makedirs(os.path.join(set_dir, 'images'), exist_ok=True)\n",
    "    os.makedirs(os.path.join(set_dir, 'labels'), exist_ok=True)\n",
    "    df = pd.read_csv(os.path.join(data_root, f'{filename}.csv'))\n",
    "\n",
    "    df_detect = pd.read_csv(os.path.join(data_root, f'detect.csv'))\n",
    "\n",
    "    for i, row in tqdm.tqdm(df.iterrows(), total=len(df)):\n",
    "        img_path = row['img_path']\n",
    "        img_name = os.path.basename(img_path)\n",
    "        base_name = os.path.splitext(img_name)[0]\n",
    "\n",
    "        row_detect = df_detect[df_detect['img_path'] == img_path]\n",
    "\n",
    "        \n",
    "        # get image size\n",
    "        img = cv2.imread(os.path.join(data_root, 'frames', img_path)) \n",
    "        h, w, _ = img.shape\n",
    "\n",
    "        box_x = int(row_detect['box_x'].values[0])\n",
    "        box_y = int(row_detect['box_y'].values[0])\n",
    "        box_w = int(row_detect['box_w'].values[0])\n",
    "        box_h = int(row_detect['box_h'].values[0])\n",
    "\n",
    "        crop_x, crop_y, crop_w, crop_h = box_x, box_y, box_w, box_h\n",
    "        \n",
    "        # change box aspect ratio to 1\n",
    "        if box_w > box_h:\n",
    "            diff = box_w - box_h\n",
    "            crop_y -= diff // 2\n",
    "            crop_h = box_w\n",
    "        else:\n",
    "            diff = box_h - box_w\n",
    "            crop_x -= diff // 2\n",
    "            crop_w = box_h\n",
    "\n",
    "        crop_x = max(0, crop_x)\n",
    "        crop_y = max(0, crop_y)\n",
    "        crop_w = min(w - crop_x, crop_w)\n",
    "        crop_h = min(h - crop_y, crop_h)\n",
    "        # crop image\n",
    "        img = img[crop_y:crop_y+crop_h, crop_x:crop_x+crop_w]\n",
    "\n",
    "        box_x -= crop_x\n",
    "        box_y -= crop_y\n",
    "\n",
    "        ncx = (box_x + box_w // 2) / crop_w\n",
    "        ncy = (box_y + box_h // 2) / crop_h\n",
    "        nw = box_w / crop_w\n",
    "        nh = box_h / crop_h\n",
    "        \n",
    "        # generate label\n",
    "        label = f'0 {ncx} {ncy} {nw} {nh}'\n",
    "        for kp in keypoints:\n",
    "            x = (row_detect[f'{kp}_u'].values[0] - crop_x) / crop_w\n",
    "            y = (row_detect[f'{kp}_v'].values[0] - crop_y) / crop_h\n",
    "            v = 1 if not np.isnan(x) and not np.isnan(y) else 0\n",
    "            label += f' {x} {y} {v}'\n",
    "\n",
    "        cv2.imwrite(f'{data_root}/{data_path}/{filename}/images/{img_name}', img)\n",
    "\n",
    "        with open(f'{data_root}/{data_path}/{filename}/labels/{base_name}.txt', 'w') as f:\n",
    "            f.write(label)"
   ]
  },
  {
   "cell_type": "code",
   "execution_count": 8,
   "metadata": {},
   "outputs": [
    {
     "name": "stderr",
     "output_type": "stream",
     "text": [
      "100%|██████████| 59927/59927 [13:53<00:00, 71.91it/s]\n",
      "100%|██████████| 11968/11968 [02:41<00:00, 74.10it/s]\n"
     ]
    }
   ],
   "source": [
    "generate_set('train')\n",
    "generate_set('val')"
   ]
  }
 ],
 "metadata": {
  "kernelspec": {
   "display_name": "Python 3",
   "language": "python",
   "name": "python3"
  },
  "language_info": {
   "codemirror_mode": {
    "name": "ipython",
    "version": 3
   },
   "file_extension": ".py",
   "mimetype": "text/x-python",
   "name": "python",
   "nbconvert_exporter": "python",
   "pygments_lexer": "ipython3",
   "version": "3.11.9"
  }
 },
 "nbformat": 4,
 "nbformat_minor": 2
}
