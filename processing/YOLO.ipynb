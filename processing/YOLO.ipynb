{
 "cells": [
  {
   "cell_type": "markdown",
   "metadata": {},
   "source": [
    "This notebook is to generate a dataset to use with ultralytics YOLO-pose training"
   ]
  },
  {
   "cell_type": "code",
   "execution_count": 1,
   "metadata": {},
   "outputs": [],
   "source": [
    "import os\n",
    "import pandas as pd\n",
    "import numpy as np\n",
    "import yaml\n",
    "import shutil\n",
    "import cv2\n",
    "import tqdm"
   ]
  },
  {
   "cell_type": "code",
   "execution_count": 2,
   "metadata": {},
   "outputs": [],
   "source": [
    "keypoint_set = 'med_34'\n",
    "data_root = '../data'\n",
    "data_path = 'YOLO_' + keypoint_set\n",
    "\n",
    "# rm -rf data_root/YOLO\n",
    "shutil.rmtree(f'{data_root}/{data_path}', ignore_errors=True)\n",
    "\n",
    "os.makedirs(f'{data_root}/{data_path}', exist_ok=True)\n",
    "\n",
    "keypoints = yaml.load(open(f'../configs/keypoint_sets.yaml'), Loader=yaml.FullLoader)\n",
    "keypoints = keypoints[keypoint_set]"
   ]
  },
  {
   "cell_type": "code",
   "execution_count": 3,
   "metadata": {},
   "outputs": [],
   "source": [
    "def generate_set(filename):\n",
    "    set_dir = os.path.join(data_root, data_path, filename)\n",
    "    os.makedirs(set_dir, exist_ok=True)\n",
    "    os.makedirs(os.path.join(set_dir, 'images'), exist_ok=True)\n",
    "    os.makedirs(os.path.join(set_dir, 'labels'), exist_ok=True)\n",
    "    df = pd.read_csv(os.path.join(data_root, f'{filename}.csv'))\n",
    "\n",
    "    for i, row in tqdm.tqdm(df.iterrows(), total=len(df)):\n",
    "        img_path = row['cropped_img_path']\n",
    "        img_name = os.path.basename(img_path)\n",
    "        base_name = os.path.splitext(img_name)[0]\n",
    "\n",
    "        # copy image\n",
    "        shutil.copyfile(os.path.join(data_root, 'cropped', img_path), f'{data_root}/{data_path}/{filename}/images/{img_name}')   \n",
    "\n",
    "        # get image size\n",
    "        img = cv2.imread(os.path.join(data_root, 'cropped', img_path)) \n",
    "        h, w, _ = img.shape\n",
    "\n",
    "        # generate label\n",
    "        label = '0 0.5 0.5 1 1'\n",
    "        for kp in keypoints:\n",
    "            x = row[f'{kp}_u'] / w\n",
    "            y = row[f'{kp}_v'] / h\n",
    "            v = 1 if not np.isnan(x) or not np.isnan(y) else 0\n",
    "            label += f' {x} {y} {v}'\n",
    "        \n",
    "        with open(f'{data_root}/{data_path}/{filename}/labels/{base_name}.txt', 'w') as f:\n",
    "            f.write(label)"
   ]
  },
  {
   "cell_type": "code",
   "execution_count": 4,
   "metadata": {},
   "outputs": [
    {
     "name": "stderr",
     "output_type": "stream",
     "text": [
      "100%|██████████| 60000/60000 [02:57<00:00, 337.24it/s]\n",
      "100%|██████████| 6000/6000 [00:16<00:00, 366.57it/s]\n"
     ]
    }
   ],
   "source": [
    "generate_set('train')\n",
    "generate_set('val')"
   ]
  }
 ],
 "metadata": {
  "kernelspec": {
   "display_name": "Python 3",
   "language": "python",
   "name": "python3"
  },
  "language_info": {
   "codemirror_mode": {
    "name": "ipython",
    "version": 3
   },
   "file_extension": ".py",
   "mimetype": "text/x-python",
   "name": "python",
   "nbconvert_exporter": "python",
   "pygments_lexer": "ipython3",
   "version": "3.11.9"
  }
 },
 "nbformat": 4,
 "nbformat_minor": 2
}
