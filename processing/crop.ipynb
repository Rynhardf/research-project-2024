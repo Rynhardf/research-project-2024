{
 "cells": [
  {
   "cell_type": "markdown",
   "metadata": {},
   "source": [
    "This notebook is used to generate the cropped image data. It reads `detect.csv` and crops the images to the bounding boxes. The boxes is first expanded with 2px on each side, then the image is cropped to the box. Images where all the keypoints are outside the box are discarded, assuming the person detection did not work. The cropped images are saved in a new folder."
   ]
  },
  {
   "cell_type": "code",
   "execution_count": 1,
   "metadata": {},
   "outputs": [],
   "source": [
    "import os\n",
    "import pandas as pd\n",
    "import cv2\n",
    "import numpy as np\n",
    "import tqdm"
   ]
  },
  {
   "cell_type": "code",
   "execution_count": 2,
   "metadata": {},
   "outputs": [],
   "source": [
    "# Expand box by 2px on each side\n",
    "def expand_box(x, y, w, h, img_width, img_height, padding=2):\n",
    "    x_new = max(x - padding, 0)\n",
    "    y_new = max(y - padding, 0)\n",
    "    w_new = min(w + 2 * padding, img_width - x_new)\n",
    "    h_new = min(h + 2 * padding, img_height - y_new)\n",
    "    return x_new, y_new, w_new, h_new\n",
    "\n",
    "\n",
    "def adjust_aspect_ratio(x, y, w, h, img_width, img_height, target_aspect_ratio=0.75):\n",
    "    aspect_ratio = w / h\n",
    "\n",
    "    if aspect_ratio > target_aspect_ratio:\n",
    "        new_h = w / target_aspect_ratio\n",
    "        y = y - (new_h - h) / 2\n",
    "        h = new_h\n",
    "    else:\n",
    "        new_w = h * target_aspect_ratio\n",
    "        x = x - (new_w - w) / 2\n",
    "        w = new_w\n",
    "\n",
    "    x = max(x, 0)\n",
    "    y = max(y, 0)\n",
    "    w = min(w, img_width - x)\n",
    "    h = min(h, img_height - y)\n",
    "\n",
    "    return x, y, w, h\n",
    "\n",
    "# Adjust keypoints based on the crop\n",
    "def adjust_keypoints(row, box_x, box_y, box_w, box_h, img_width, img_height):\n",
    "    keypoints = []\n",
    "    for i in range(10, len(row), 2):  # Loop through keypoints\n",
    "        u = row.iloc[i]\n",
    "        v = row.iloc[i + 1]\n",
    "\n",
    "        # If keypoint is missing, continue\n",
    "        if pd.isna(u) or pd.isna(v):\n",
    "            keypoints.extend([\"\", \"\"])\n",
    "            continue\n",
    "\n",
    "        u = float(u)\n",
    "        v = float(v)\n",
    "\n",
    "        # Check if the keypoint is outside the original image dimensions\n",
    "        if u < 0 or v < 0 or u >= img_width or v >= img_height:\n",
    "            keypoints.extend([\"\", \"\"])\n",
    "        else:\n",
    "            # Adjust keypoints based on the cropped box\n",
    "            if box_x <= u <= (box_x + box_w) and box_y <= v <= (box_y + box_h):\n",
    "                new_u = u - box_x\n",
    "                new_v =  v - box_y\n",
    "                keypoints.extend([round(new_u, 2), round(new_v, 2)])\n",
    "            else:\n",
    "                keypoints.extend([\"\", \"\"])\n",
    "\n",
    "    return keypoints"
   ]
  },
  {
   "cell_type": "code",
   "execution_count": 3,
   "metadata": {},
   "outputs": [],
   "source": [
    "# Load CSV file\n",
    "root_img_dir = \"../data/frames\"\n",
    "csv_path = \"../data/detect.csv\"\n",
    "df = pd.read_csv(csv_path)\n",
    "\n",
    "# Directory to save cropped images\n",
    "output_img_dir = \"../data/cropped\"\n",
    "if not os.path.exists(output_img_dir):\n",
    "    os.makedirs(output_img_dir)"
   ]
  },
  {
   "cell_type": "code",
   "execution_count": 4,
   "metadata": {},
   "outputs": [
    {
     "name": "stderr",
     "output_type": "stream",
     "text": [
      "  0%|          | 1/71968 [00:00<7:53:49,  2.53it/s]"
     ]
    },
    {
     "name": "stderr",
     "output_type": "stream",
     "text": [
      "100%|██████████| 71968/71968 [12:55<00:00, 92.81it/s] \n"
     ]
    },
    {
     "name": "stdout",
     "output_type": "stream",
     "text": [
      "Processed 71901 images and saved to ../data/cropped.csv.\n",
      "Skipped 67 images due to all keypoints outside the box.\n"
     ]
    }
   ],
   "source": [
    "num_skipped = 0\n",
    "\n",
    "new_rows = []\n",
    "\n",
    "for idx, row in tqdm.tqdm(df.iterrows(), total=len(df)):\n",
    "    img_path = row[\"img_path\"]\n",
    "\n",
    "    # Load the image\n",
    "    img = cv2.imread(os.path.join(root_img_dir, img_path))\n",
    "    if img is None:\n",
    "        print(f\"Image {img_path} not found.\")\n",
    "        continue\n",
    "\n",
    "    img_height, img_width = img.shape[:2]\n",
    "\n",
    "    # Get bounding box details\n",
    "    box_x, box_y, box_w, box_h = (\n",
    "        float(row[\"box_x\"]),\n",
    "        float(row[\"box_y\"]),\n",
    "        float(row[\"box_w\"]),\n",
    "        float(row[\"box_h\"]),\n",
    "    )\n",
    "\n",
    "    # Expand the bounding box by 2px\n",
    "    box_x, box_y, box_w, box_h = expand_box(\n",
    "        box_x, box_y, box_w, box_h, img_width, img_height\n",
    "    )\n",
    "\n",
    "    # Adjust aspect ratio of the bounding box\n",
    "    box_x, box_y, box_w, box_h = adjust_aspect_ratio(\n",
    "        box_x, box_y, box_w, box_h, img_width, img_height, target_aspect_ratio=1\n",
    "    )\n",
    "\n",
    "    # Crop the image\n",
    "    cropped_img = img[int(box_y) : int(box_y + box_h), int(box_x) : int(box_x + box_w)]\n",
    "\n",
    "    # Adjust keypoints based on the new crop\n",
    "    keypoints = adjust_keypoints(row, box_x, box_y, box_w, box_h, img_width, img_height)\n",
    "\n",
    "    # Remove rows where all keypoints are outside the crop (i.e., all keypoints are empty)\n",
    "    if all(kp == \"\" for kp in keypoints):\n",
    "        # print(f\"Skipping image {img_path} due to all keypoints outside the box.\")\n",
    "        num_skipped += 1\n",
    "        continue\n",
    "\n",
    "    # Save the cropped image\n",
    "    cropped_img_name = f\"cropped_{os.path.basename(img_path)}\"\n",
    "    cv2.imwrite(os.path.join(output_img_dir, cropped_img_name), cropped_img)\n",
    "\n",
    "    # Create new row with the cropped image path and updated keypoints\n",
    "    new_row = row[:10].tolist() + [cropped_img_name] + keypoints\n",
    "    new_rows.append(new_row)\n",
    "\n",
    "# Create new DataFrame without the box_x, box_y, box_w, box_h columns\n",
    "new_columns = df.columns[:10].tolist() + [\"cropped_img_path\"] + df.columns[10:].tolist()\n",
    "new_df = pd.DataFrame(new_rows, columns=new_columns)\n",
    "\n",
    "# Save the new CSV file\n",
    "output_csv_path = \"../data/cropped.csv\"\n",
    "new_df.to_csv(output_csv_path, index=False)\n",
    "\n",
    "print(f\"Processed {len(new_rows)} images and saved to {output_csv_path}.\")\n",
    "print(f\"Skipped {num_skipped} images due to all keypoints outside the box.\")"
   ]
  }
 ],
 "metadata": {
  "kernelspec": {
   "display_name": "base",
   "language": "python",
   "name": "python3"
  },
  "language_info": {
   "codemirror_mode": {
    "name": "ipython",
    "version": 3
   },
   "file_extension": ".py",
   "mimetype": "text/x-python",
   "name": "python",
   "nbconvert_exporter": "python",
   "pygments_lexer": "ipython3",
   "version": "3.11.9"
  }
 },
 "nbformat": 4,
 "nbformat_minor": 2
}
