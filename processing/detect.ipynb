{
 "cells": [
  {
   "cell_type": "code",
   "execution_count": 2,
   "metadata": {},
   "outputs": [],
   "source": [
    "import csv\n",
    "import numpy as np\n",
    "from ultralytics import YOLO\n",
    "import cv2\n",
    "import os\n",
    "import pandas as pd\n",
    "import tqdm\n",
    "import torch\n",
    "from torch.utils.data import Dataset, DataLoader"
   ]
  },
  {
   "cell_type": "code",
   "execution_count": 2,
   "metadata": {},
   "outputs": [],
   "source": [
    "detect_model = YOLO('./weights/yolov8x.pt')\n",
    "device = torch.device('cuda' if torch.cuda.is_available() else 'cpu')"
   ]
  },
  {
   "cell_type": "code",
   "execution_count": 10,
   "metadata": {},
   "outputs": [],
   "source": [
    "df = pd.read_csv('../data/frames.csv')\n",
    "\n",
    "cols = df.columns.tolist()\n",
    "\n",
    "\n",
    "cols.insert(6, 'box_x')\n",
    "cols.insert(7, 'box_y')\n",
    "cols.insert(8, 'box_w')\n",
    "cols.insert(9, 'box_h')"
   ]
  },
  {
   "cell_type": "code",
   "execution_count": 4,
   "metadata": {},
   "outputs": [],
   "source": [
    "class ImageDataset(Dataset):\n",
    "    def __init__(self, df, root_path):\n",
    "        self.df = df\n",
    "        self.root_path = root_path\n",
    "\n",
    "    def __len__(self):\n",
    "        return len(self.df)\n",
    "\n",
    "    def __getitem__(self, idx):\n",
    "        row = self.df.iloc[idx]\n",
    "        img_path = os.path.join(self.root_path, row['img_path'])\n",
    "        img = cv2.imread(img_path)\n",
    "        \n",
    "        img = cv2.cvtColor(img, cv2.COLOR_BGR2RGB)\n",
    "        img = cv2.resize(img, (640, 640))\n",
    "        img = img / 255.0  # Normalize\n",
    "        img_tensor = torch.from_numpy(img).permute(2, 0, 1).float()  # Convert to tensor and permute dimensions\n",
    "        return img_tensor, idx"
   ]
  },
  {
   "cell_type": "code",
   "execution_count": 25,
   "metadata": {},
   "outputs": [
    {
     "name": "stderr",
     "output_type": "stream",
     "text": [
      "  0%|          | 0/1125 [00:00<?, ?it/s]/tmp/ipykernel_4789/897782342.py:35: FutureWarning: The behavior of DataFrame concatenation with empty or all-NA entries is deprecated. In a future version, this will no longer exclude empty or all-NA columns when determining the result dtypes. To retain the old behavior, exclude the relevant entries before the concat operation.\n",
      "  new_df = pd.concat([new_df, pd.DataFrame([row_dict])], ignore_index=True)\n",
      "100%|██████████| 1125/1125 [2:20:54<00:00,  7.52s/it] \n"
     ]
    }
   ],
   "source": [
    "root_path = '../data/frames'\n",
    "batch_size = 64\n",
    "new_df = pd.DataFrame(columns=cols)\n",
    "\n",
    "dataset = ImageDataset(df, root_path)\n",
    "dataloader = DataLoader(dataset, batch_size=batch_size, shuffle=False, num_workers=4, pin_memory=True)\n",
    "\n",
    "# Process batches from the DataLoader\n",
    "for batch in tqdm.tqdm(dataloader):\n",
    "    images, idxs = batch\n",
    "    images.to(device)\n",
    "    results = detect_model(images, classes=[0],verbose=False, device=device)\n",
    "\n",
    "    idxs = idxs.numpy()\n",
    "    for i, idx in enumerate(idxs):\n",
    "        row = df.iloc[idx]\n",
    "        \n",
    "        boxes = results[i].boxes\n",
    "        if len(boxes.xywh) == 0:\n",
    "            continue\n",
    "        xywh = boxes.xywh.cpu().numpy()[0]\n",
    "        scale_w = 1150 / 640\n",
    "        scale_h = 1800 / 640\n",
    "        cx, cy, w, h = xywh\n",
    "        xywh = [cx-w/2, cy-h/2, w, h]\n",
    "        xywh = [xywh[0] * scale_w, xywh[1] * scale_h, xywh[2] * scale_w, xywh[3] * scale_h]\n",
    "       \n",
    "        row_dict = row.copy().to_dict()\n",
    "\n",
    "        row_dict['box_x'] = round(xywh[0], 2)\n",
    "        row_dict['box_y'] = round(xywh[1], 2)\n",
    "        row_dict['box_w'] = round(xywh[2], 2)\n",
    "        row_dict['box_h'] = round(xywh[3], 2)\n",
    "        \n",
    "        new_df = pd.concat([new_df, pd.DataFrame([row_dict])], ignore_index=True)\n",
    "\n",
    "new_df.to_csv('../data/detect.csv', index=False)"
   ]
  }
 ],
 "metadata": {
  "kernelspec": {
   "display_name": "myenv",
   "language": "python",
   "name": "python3"
  },
  "language_info": {
   "codemirror_mode": {
    "name": "ipython",
    "version": 3
   },
   "file_extension": ".py",
   "mimetype": "text/x-python",
   "name": "python",
   "nbconvert_exporter": "python",
   "pygments_lexer": "ipython3",
   "version": "3.11.9"
  }
 },
 "nbformat": 4,
 "nbformat_minor": 2
}
