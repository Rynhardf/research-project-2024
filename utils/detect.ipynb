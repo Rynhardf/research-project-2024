{
 "cells": [
  {
   "cell_type": "code",
   "execution_count": 1,
   "metadata": {},
   "outputs": [],
   "source": [
    "import csv\n",
    "import numpy as np\n",
    "from ultralytics import YOLO\n",
    "import cv2\n",
    "import os\n",
    "import pandas as pd\n",
    "import tqdm"
   ]
  },
  {
   "cell_type": "code",
   "execution_count": 2,
   "metadata": {},
   "outputs": [],
   "source": [
    "detect_model = YOLO('yolov8x.pt')"
   ]
  },
  {
   "cell_type": "code",
   "execution_count": 3,
   "metadata": {},
   "outputs": [],
   "source": [
    "df = pd.read_csv('raw.csv')"
   ]
  },
  {
   "cell_type": "code",
   "execution_count": 19,
   "metadata": {},
   "outputs": [
    {
     "name": "stderr",
     "output_type": "stream",
     "text": [
      "  0%|          | 0/13 [00:00<?, ?it/s]C:\\Users\\rynha\\AppData\\Local\\Temp\\ipykernel_9168\\2494914295.py:22: FutureWarning: The behavior of DataFrame concatenation with empty or all-NA entries is deprecated. In a future version, this will no longer exclude empty or all-NA columns when determining the result dtypes. To retain the old behavior, exclude the relevant entries before the concat operation.\n",
      "  df_small = pd.concat([df_small, df_sub.loc[indexes]])\n",
      "100%|██████████| 13/13 [00:00<00:00, 28.51it/s]\n"
     ]
    }
   ],
   "source": [
    "N = 10_000 # number of frames to use for the dataset\n",
    "subjects = df['S'].unique()\n",
    "frames_per_subject = N // len(subjects)\n",
    "\n",
    "cols = df.columns.tolist()\n",
    "\n",
    "\n",
    "cols.insert(6, 'box_x')\n",
    "cols.insert(7, 'box_y')\n",
    "cols.insert(8, 'box_w')\n",
    "cols.insert(9, 'box_h')\n",
    "\n",
    "df_small = pd.DataFrame(columns=cols)\n",
    "\n",
    "for s in tqdm.tqdm(subjects):\n",
    "    df_sub = df[df['S'] == s]\n",
    "    \n",
    "    # get random frames\n",
    "    indexes = np.random.choice(df_sub.index, frames_per_subject, replace=False)\n",
    "    \n",
    "    df_small = pd.concat([df_small, df_sub.loc[indexes]])"
   ]
  },
  {
   "cell_type": "code",
   "execution_count": 24,
   "metadata": {},
   "outputs": [
    {
     "name": "stderr",
     "output_type": "stream",
     "text": [
      "  0%|          | 0/9997 [00:00<?, ?it/s]C:\\Users\\rynha\\AppData\\Local\\Temp\\ipykernel_9168\\1316238239.py:26: FutureWarning: The behavior of DataFrame concatenation with empty or all-NA entries is deprecated. In a future version, this will no longer exclude empty or all-NA columns when determining the result dtypes. To retain the old behavior, exclude the relevant entries before the concat operation.\n",
      "  df_detect = pd.concat([df_detect, new_row_df], ignore_index=True)\n",
      "100%|██████████| 9997/9997 [1:22:04<00:00,  2.03it/s]\n"
     ]
    }
   ],
   "source": [
    "df_detect = pd.DataFrame(columns=cols)\n",
    "\n",
    "root_path = 'E:\\data_processed'\n",
    "for index, row in tqdm.tqdm(df_small.iterrows(), total=len(df_small)):\n",
    "    img_path = row['img_path']\n",
    "    img_path = os.path.join(root_path, img_path)\n",
    "    img = cv2.imread(img_path)\n",
    "\n",
    "    results = detect_model(img,classes=[0],verbose=False)\n",
    "    \n",
    "    boxes = results[0].boxes\n",
    "    if len(boxes.xywh) == 0:\n",
    "        continue\n",
    "    xywh = boxes.xywh.numpy()[0]\n",
    "    cx, cy, w, h = xywh\n",
    "    xywh = [cx-w/2, cy-h/2, w, h]\n",
    "\n",
    "    # add row to df_detect\n",
    "    new_row_df = pd.DataFrame([row])\n",
    "    \n",
    "    new_row_df['box_x'] = round(xywh[0], 2)\n",
    "    new_row_df['box_y'] = round(xywh[1], 2)\n",
    "    new_row_df['box_w'] = round(xywh[2], 2)\n",
    "    new_row_df['box_h'] = round(xywh[3], 2)\n",
    "\n",
    "    df_detect = pd.concat([df_detect, new_row_df], ignore_index=True)\n",
    "\n",
    "#     im_show = img.copy()\n",
    "\n",
    "#     im_show = cv2.rectangle(im_show, (int(xywh[0]), int(xywh[1])), (int(xywh[0]+xywh[2]), int(xywh[1]+xywh[3])), (0, 255, 0), 2)\n",
    "#     im_show = cv2.resize(im_show, (288, 450))\n",
    "#     cv2.imshow('img', im_show)\n",
    "#     key = cv2.waitKey(1)\n",
    "#     if key == 27:\n",
    "#         break\n",
    "\n",
    "# cv2.destroyAllWindows()\n",
    "\n",
    "df_detect.to_csv('detect.csv', index=False)"
   ]
  },
  {
   "cell_type": "code",
   "execution_count": 27,
   "metadata": {},
   "outputs": [],
   "source": [
    "# Load image\n",
    "img = cv2.imread('E:/data_processed/frames/C5/S1/C5S1A7D2/C5S1A7D2_0518.jpg')\n",
    "\n",
    "# Detect bounding box\n",
    "results = detect_model(img, classes=[0], verbose=False)\n",
    "\n",
    "# Get center (cx, cy), width (w), and height (h) of the bounding box\n",
    "xyxy = results[0].boxes.xyxy.numpy()[0]\n",
    "\n",
    "x1, y1, x2, y2 = xyxy[0], xyxy[1], xyxy[2], xyxy[3]\n",
    "\n",
    "# Copy the image for drawing\n",
    "im_show = img.copy()\n",
    "\n",
    "# Draw the rectangle\n",
    "im_show = cv2.rectangle(im_show, (int(x1), int(y1)), (int(x2), int(y2)), (0, 255, 0), 2)\n",
    "\n",
    "im_show = cv2.resize(im_show, (288, 450))\n",
    "\n",
    "# Display the image\n",
    "cv2.imshow('img', im_show)\n",
    "cv2.waitKey(0)\n",
    "cv2.destroyAllWindows()"
   ]
  }
 ],
 "metadata": {
  "kernelspec": {
   "display_name": "myenv",
   "language": "python",
   "name": "python3"
  },
  "language_info": {
   "codemirror_mode": {
    "name": "ipython",
    "version": 3
   },
   "file_extension": ".py",
   "mimetype": "text/x-python",
   "name": "python",
   "nbconvert_exporter": "python",
   "pygments_lexer": "ipython3",
   "version": "3.11.1"
  }
 },
 "nbformat": 4,
 "nbformat_minor": 2
}
