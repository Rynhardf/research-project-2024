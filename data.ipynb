{
 "cells": [
  {
   "cell_type": "code",
   "execution_count": 1,
   "metadata": {},
   "outputs": [],
   "source": [
    "import pandas as pd"
   ]
  },
  {
   "cell_type": "code",
   "execution_count": 2,
   "metadata": {},
   "outputs": [],
   "source": [
    "df = pd.read_csv('./data/raw.csv')"
   ]
  },
  {
   "cell_type": "code",
   "execution_count": 9,
   "metadata": {},
   "outputs": [
    {
     "name": "stdout",
     "output_type": "stream",
     "text": [
      "C  S \n",
      "1  1     22000\n",
      "   2      6419\n",
      "   7     18871\n",
      "   8     10075\n",
      "   9     13682\n",
      "   21    26176\n",
      "2  1     18428\n",
      "   2      6566\n",
      "   7      9622\n",
      "   8      9406\n",
      "   9      8160\n",
      "   21    26176\n",
      "3  1     18094\n",
      "   2      8611\n",
      "   7     19914\n",
      "   8     15475\n",
      "   9     12999\n",
      "   21    26176\n",
      "4  1     19680\n",
      "   2     13154\n",
      "   7     17087\n",
      "   8     11581\n",
      "   9      3863\n",
      "   21    26176\n",
      "   22    19384\n",
      "   23    27886\n",
      "   24    21695\n",
      "   25    25034\n",
      "   26    21654\n",
      "   27    27927\n",
      "   28    20156\n",
      "5  1     17246\n",
      "   2      6095\n",
      "   7     11820\n",
      "   8     14474\n",
      "   9      9941\n",
      "   21    26176\n",
      "6  1     19022\n",
      "   2      9391\n",
      "   7      7279\n",
      "   8      8050\n",
      "   9     12570\n",
      "   21    26176\n",
      "dtype: int64\n"
     ]
    }
   ],
   "source": [
    "total_num = len(df)\n",
    "\n",
    "# get total unique values in C column\n",
    "num_C = df['C'].nunique()\n",
    "num_S = df['S'].nunique()\n",
    "num_A = df['A'].nunique()\n",
    "num_D = df['D'].nunique()\n",
    "\n",
    "# get number per C\n",
    "num_per_C = df.groupby('C').size()\n",
    "\n",
    "# for each C get numbers per S\n",
    "num_per_C_S = df.groupby(['C', 'S']).size()\n",
    "\n",
    "print(num_per_C_S)\n"
   ]
  },
  {
   "cell_type": "code",
   "execution_count": 15,
   "metadata": {},
   "outputs": [
    {
     "name": "stdout",
     "output_type": "stream",
     "text": [
      "66000\n"
     ]
    }
   ],
   "source": [
    "N = 72000\n",
    "N_per_C = N // num_C\n",
    "subjects = [1,2,7,8,9,21]\n",
    "num_S = len(subjects)\n",
    "N_per_S_per_C = N_per_C // num_S + 1\n",
    "\n",
    "new_df = pd.DataFrame()\n",
    "\n",
    "for c in range(1, num_C+1):\n",
    "    for s in subjects:\n",
    "        subset = df[(df['C'] == c) & (df['S'] == s)]\n",
    "        # get random sample\n",
    "        sample = subset.sample(n=N_per_S_per_C)\n",
    "        new_df = pd.concat([new_df, sample])\n",
    "\n",
    "new_df = new_df[:N]\n",
    "new_df = new_df.sample(frac=1)\n",
    "print(len(new_df))\n",
    "new_df.to_csv('./data/processed.csv', index=False)"
   ]
  },
  {
   "cell_type": "code",
   "execution_count": 17,
   "metadata": {},
   "outputs": [
    {
     "name": "stderr",
     "output_type": "stream",
     "text": [
      "100%|██████████| 66000/66000 [46:31<00:00, 23.64it/s]  \n"
     ]
    }
   ],
   "source": [
    "# for newdf get image path and save image to new folder\n",
    "import os\n",
    "import shutil\n",
    "import cv2\n",
    "import tqdm\n",
    "\n",
    "root = \"E:\\data_processed\"\n",
    "\n",
    "if not os.path.exists('./data/images'):\n",
    "    os.makedirs('./data/images')\n",
    "\n",
    "for i, row in tqdm.tqdm(new_df.iterrows(), total=len(new_df)):\n",
    "    img_path = row['img_path']\n",
    "    img_path = os.path.join(root, img_path)\n",
    "    img_name = os.path.basename(img_path)\n",
    "    new_img_path = os.path.join('./data/images', img_name)\n",
    "    shutil.copy(img_path, new_img_path)"
   ]
  }
 ],
 "metadata": {
  "kernelspec": {
   "display_name": "Python 3",
   "language": "python",
   "name": "python3"
  },
  "language_info": {
   "codemirror_mode": {
    "name": "ipython",
    "version": 3
   },
   "file_extension": ".py",
   "mimetype": "text/x-python",
   "name": "python",
   "nbconvert_exporter": "python",
   "pygments_lexer": "ipython3",
   "version": "3.11.1"
  }
 },
 "nbformat": 4,
 "nbformat_minor": 2
}
