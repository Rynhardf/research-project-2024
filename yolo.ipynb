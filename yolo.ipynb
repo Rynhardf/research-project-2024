{
 "cells": [
  {
   "cell_type": "code",
   "execution_count": 1,
   "metadata": {},
   "outputs": [],
   "source": [
    "from utils import load_model, load_config, get_keypoints, draw_keypoints\n",
    "import cv2\n",
    "import torch\n",
    "import numpy as np"
   ]
  },
  {
   "cell_type": "code",
   "execution_count": 2,
   "metadata": {},
   "outputs": [],
   "source": [
    "config = load_config('./configs/config_YOLO_x.yaml')\n",
    "model = load_model(config['model'])"
   ]
  },
  {
   "cell_type": "code",
   "execution_count": 3,
   "metadata": {},
   "outputs": [
    {
     "name": "stdout",
     "output_type": "stream",
     "text": [
      "torch.Size([1, 3, 640, 640])\n"
     ]
    }
   ],
   "source": [
    "image = cv2.imread('./example_images/demo_cropped.jpg')\n",
    "image = cv2.resize(image, config['dataset']['preprocess']['input_size'])\n",
    "image = cv2.cvtColor(image, cv2.COLOR_BGR2RGB)\n",
    "image = image.astype('float32')\n",
    "image /= 255.0\n",
    "\n",
    "image = torch.from_numpy(image).permute(2, 0, 1).unsqueeze(0)\n",
    "print(image.shape)"
   ]
  },
  {
   "cell_type": "code",
   "execution_count": 17,
   "metadata": {},
   "outputs": [],
   "source": [
    "model.eval()\n",
    "out = model(image)\n",
    "keypoints1 = get_keypoints(out, config)[0]\n",
    "model.train()\n",
    "out = model(image)\n",
    "keypoints2 = get_keypoints(out, config)[0]"
   ]
  },
  {
   "cell_type": "code",
   "execution_count": 20,
   "metadata": {},
   "outputs": [],
   "source": [
    "image_show = cv2.imread('./example_images/demo_cropped.jpg')\n",
    "image_show = cv2.resize(image_show, config['dataset']['preprocess']['input_size'])\n",
    "\n",
    "# image_show1 = draw_keypoints(image_show, keypoints1, np.ones(len(keypoints1)))\n",
    "image_show2 = draw_keypoints(image_show.copy(), keypoints2, np.ones(len(keypoints2)))\n",
    "\n",
    "# cv2.imshow('keypoints1', image_show1)\n",
    "cv2.imshow('keypoints2', image_show2)\n",
    "cv2.waitKey(0)\n",
    "cv2.destroyAllWindows()"
   ]
  },
  {
   "cell_type": "code",
   "execution_count": null,
   "metadata": {},
   "outputs": [],
   "source": []
  }
 ],
 "metadata": {
  "kernelspec": {
   "display_name": "Python 3",
   "language": "python",
   "name": "python3"
  },
  "language_info": {
   "codemirror_mode": {
    "name": "ipython",
    "version": 3
   },
   "file_extension": ".py",
   "mimetype": "text/x-python",
   "name": "python",
   "nbconvert_exporter": "python",
   "pygments_lexer": "ipython3",
   "version": "3.11.1"
  }
 },
 "nbformat": 4,
 "nbformat_minor": 2
}
