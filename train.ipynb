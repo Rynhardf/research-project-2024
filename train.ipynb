{
    "cells": [
        {
            "cell_type": "code",
            "execution_count": 1,
            "metadata": {},
            "outputs": [],
            "source": [
                "from train import train_model\n",
                "from utils import load_config"
            ]
        },
        {
            "cell_type": "code",
            "execution_count": 2,
            "metadata": {},
            "outputs": [],
            "source": [
                "config = load_config('./configs/config_YOLO_x.yaml')"
            ]
        },
        {
            "cell_type": "code",
            "execution_count": 3,
            "metadata": {},
            "outputs": [
                {
                    "name": "stdout",
                    "output_type": "stream",
                    "text": [
                        "Epoch [0/5],Validation Loss: 155855.609375, Normalized MAE: 10.974037\n",
                        "Epoch [1/5], Step [0/10], Loss: 338416.093750, Batch Time: 66.71s\n",
                        "Epoch [1/5], Step [1/10], Loss: 336494.843750, Batch Time: 31.50s\n",
                        "Epoch [1/5], Step [2/10], Loss: 326725.875000, Batch Time: 28.54s\n",
                        "Epoch [1/5], Step [3/10], Loss: 326756.125000, Batch Time: 27.95s\n",
                        "Epoch [1/5], Step [4/10], Loss: 331233.187500, Batch Time: 27.87s\n",
                        "Epoch [1/5], Step [5/10], Loss: 334796.375000, Batch Time: 27.01s\n",
                        "Epoch [1/5], Step [6/10], Loss: 335243.062500, Batch Time: 30.43s\n",
                        "Epoch [1/5], Step [7/10], Loss: 320872.812500, Batch Time: 30.83s\n",
                        "Epoch [1/5], Step [8/10], Loss: 318327.031250, Batch Time: 29.60s\n",
                        "Epoch [1/5], Step [9/10], Loss: 330561.281250, Batch Time: 28.66s\n",
                        "Epoch [1/5], Training Loss: 329942.668750, Validation Loss: inf, Normalized MAE: 20846145542553600.000000, Epoch Time: 343.59s\n",
                        "Epoch [2/5], Step [0/10], Loss: 337201.375000, Batch Time: 60.68s\n",
                        "Epoch [2/5], Step [1/10], Loss: 324492.718750, Batch Time: 27.95s\n",
                        "Epoch [2/5], Step [2/10], Loss: 327492.218750, Batch Time: 27.80s\n",
                        "Epoch [2/5], Step [3/10], Loss: 338201.718750, Batch Time: 28.17s\n",
                        "Epoch [2/5], Step [4/10], Loss: 326557.250000, Batch Time: 28.80s\n",
                        "Epoch [2/5], Step [5/10], Loss: 319216.687500, Batch Time: 27.35s\n",
                        "Epoch [2/5], Step [6/10], Loss: 323382.937500, Batch Time: 27.45s\n",
                        "Epoch [2/5], Step [7/10], Loss: 312842.406250, Batch Time: 27.40s\n",
                        "Epoch [2/5], Step [8/10], Loss: 334358.281250, Batch Time: 28.17s\n",
                        "Epoch [2/5], Step [9/10], Loss: 325451.531250, Batch Time: 27.19s\n",
                        "Epoch [2/5], Training Loss: 326919.712500, Validation Loss: 91755432368930700445611343166308352.000000, Normalized MAE: 923806720000.000000, Epoch Time: 325.28s\n",
                        "Validation loss improved from inf to 91755432368930700445611343166308352.000000. Saving model...\n",
                        "Checkpoint saved to runs/20240922_123403\\checkpoint_epoch_2\n",
                        "Epoch [3/5], Step [0/10], Loss: 332642.375000, Batch Time: 47.18s\n",
                        "Epoch [3/5], Step [1/10], Loss: 318095.562500, Batch Time: 30.05s\n",
                        "Epoch [3/5], Step [2/10], Loss: 318443.875000, Batch Time: 27.30s\n",
                        "Epoch [3/5], Step [3/10], Loss: 320676.781250, Batch Time: 29.53s\n",
                        "Epoch [3/5], Step [4/10], Loss: 336508.843750, Batch Time: 29.07s\n",
                        "Epoch [3/5], Step [5/10], Loss: 329029.312500, Batch Time: 29.60s\n",
                        "Epoch [3/5], Step [6/10], Loss: 326956.343750, Batch Time: 25.91s\n",
                        "Epoch [3/5], Step [7/10], Loss: 320738.125000, Batch Time: 26.88s\n",
                        "Epoch [3/5], Step [8/10], Loss: 323616.125000, Batch Time: 30.45s\n",
                        "Epoch [3/5], Step [9/10], Loss: 318271.937500, Batch Time: 29.64s\n",
                        "Epoch [3/5], Training Loss: 324497.928125, Validation Loss: 91348204595415661674496.000000, Normalized MAE: 30856087.500000, Epoch Time: 319.66s\n",
                        "Validation loss improved from 91755432368930700445611343166308352.000000 to 91348204595415661674496.000000. Saving model...\n",
                        "Checkpoint saved to runs/20240922_123403\\checkpoint_epoch_3\n",
                        "Epoch [4/5], Step [0/10], Loss: 312304.031250, Batch Time: 46.27s\n",
                        "Epoch [4/5], Step [1/10], Loss: 324368.218750, Batch Time: 31.26s\n",
                        "Epoch [4/5], Step [2/10], Loss: 328386.218750, Batch Time: 27.79s\n",
                        "Epoch [4/5], Step [3/10], Loss: 324406.406250, Batch Time: 28.72s\n",
                        "Epoch [4/5], Step [4/10], Loss: 324627.656250, Batch Time: 28.51s\n",
                        "Epoch [4/5], Step [5/10], Loss: 323874.812500, Batch Time: 25.14s\n",
                        "Epoch [4/5], Step [6/10], Loss: 314429.906250, Batch Time: 27.21s\n",
                        "Epoch [4/5], Step [7/10], Loss: 322136.125000, Batch Time: 25.25s\n",
                        "Epoch [4/5], Step [8/10], Loss: 317307.312500, Batch Time: 25.23s\n",
                        "Epoch [4/5], Step [9/10], Loss: 328326.437500, Batch Time: 24.19s\n",
                        "Epoch [4/5], Training Loss: 322016.712500, Validation Loss: 4765398843502100480.000000, Normalized MAE: 422216.601562, Epoch Time: 303.43s\n",
                        "Validation loss improved from 91348204595415661674496.000000 to 4765398843502100480.000000. Saving model...\n",
                        "Checkpoint saved to runs/20240922_123403\\checkpoint_epoch_4\n",
                        "Epoch [5/5], Step [0/10], Loss: 326799.125000, Batch Time: 59.54s\n",
                        "Epoch [5/5], Step [1/10], Loss: 327847.437500, Batch Time: 27.23s\n",
                        "Epoch [5/5], Step [2/10], Loss: 316884.093750, Batch Time: 26.11s\n",
                        "Epoch [5/5], Step [3/10], Loss: 318188.687500, Batch Time: 27.28s\n",
                        "Epoch [5/5], Step [4/10], Loss: 309089.781250, Batch Time: 25.57s\n",
                        "Epoch [5/5], Step [5/10], Loss: 319274.812500, Batch Time: 24.54s\n",
                        "Epoch [5/5], Step [6/10], Loss: 323805.750000, Batch Time: 26.61s\n",
                        "Epoch [5/5], Step [7/10], Loss: 321144.968750, Batch Time: 27.76s\n",
                        "Epoch [5/5], Step [8/10], Loss: 309370.750000, Batch Time: 24.67s\n",
                        "Epoch [5/5], Step [9/10], Loss: 316583.000000, Batch Time: 27.08s\n",
                        "Epoch [5/5], Training Loss: 318898.840625, Validation Loss: 2493446619136.000000, Normalized MAE: 1006.709290, Epoch Time: 309.98s\n",
                        "Validation loss improved from 4765398843502100480.000000 to 2493446619136.000000. Saving model...\n",
                        "Checkpoint saved to runs/20240922_123403\\checkpoint_epoch_5\n",
                        "Training complete. Results saved to runs/20240922_123403\\training_results.json\n"
                    ]
                }
            ],
            "source": [
                "train_model(config)"
            ]
        }
    ],
    "metadata": {
        "kernelspec": {
            "display_name": "Python 3",
            "language": "python",
            "name": "python3"
        },
        "language_info": {
            "codemirror_mode": {
                "name": "ipython",
                "version": 3
            },
            "file_extension": ".py",
            "mimetype": "text/x-python",
            "name": "python",
            "nbconvert_exporter": "python",
            "pygments_lexer": "ipython3",
            "version": "3.11.1"
        }
    },
    "nbformat": 4,
    "nbformat_minor": 2
}
