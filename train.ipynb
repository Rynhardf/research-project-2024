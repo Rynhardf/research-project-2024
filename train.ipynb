{
 "cells": [
  {
   "cell_type": "code",
   "execution_count": 1,
   "metadata": {},
   "outputs": [],
   "source": [
    "from train import train_model\n",
    "from utils import load_config"
   ]
  },
  {
   "cell_type": "code",
   "execution_count": null,
   "metadata": {},
   "outputs": [],
   "source": [
    "config = load_config('./configs/config_ViT_B_simple.yaml')\n",
    "config['dataset']['keypoints'] = 'small_17'\n",
    "config['model']['num_joints'] = 17\n",
    "train_model(config) "
   ]
  },
  {
   "cell_type": "code",
   "execution_count": null,
   "metadata": {},
   "outputs": [],
   "source": [
    "config = load_config('./configs/config_ViT_B_simple.yaml')\n",
    "config['dataset']['keypoints'] = 'med_34'\n",
    "config['model']['num_joints'] = 34\n",
    "train_model(config) "
   ]
  },
  {
   "cell_type": "code",
   "execution_count": null,
   "metadata": {},
   "outputs": [],
   "source": [
    "config = load_config('./configs/config_ViT_B_classic.yaml')\n",
    "config['dataset']['keypoints'] = 'small_17'\n",
    "config['model']['num_joints'] = 17\n",
    "train_model(config) "
   ]
  },
  {
   "cell_type": "code",
   "execution_count": null,
   "metadata": {},
   "outputs": [],
   "source": [
    "config = load_config('./configs/config_ViT_B_classic.yaml')\n",
    "config['dataset']['keypoints'] = 'med_34'\n",
    "config['model']['num_joints'] = 34\n",
    "train_model(config) "
   ]
  },
  {
   "cell_type": "code",
   "execution_count": null,
   "metadata": {},
   "outputs": [],
   "source": [
    "config = load_config('./configs/config_w48_768x576.yaml')\n",
    "config['dataset']['keypoints'] = 'small_17'\n",
    "config['model']['num_joints'] = 17\n",
    "train_model(config) "
   ]
  },
  {
   "cell_type": "code",
   "execution_count": null,
   "metadata": {},
   "outputs": [],
   "source": [
    "config = load_config('./configs/config_w48_768x576.yaml')\n",
    "config['dataset']['keypoints'] = 'med_34'\n",
    "config['model']['num_joints'] = 34\n",
    "train_model(config) "
   ]
  },
  {
   "cell_type": "code",
   "execution_count": null,
   "metadata": {},
   "outputs": [],
   "source": [
    "config = load_config('./configs/config_ViT_L_classic.yaml')\n",
    "config['dataset']['keypoints'] = 'small_17'\n",
    "config['model']['num_joints'] = 17\n",
    "train_model(config) "
   ]
  },
  {
   "cell_type": "code",
   "execution_count": null,
   "metadata": {},
   "outputs": [],
   "source": [
    "config = load_config('./configs/config_ViT_L_classic.yaml')\n",
    "config['dataset']['keypoints'] = 'med_34'\n",
    "config['model']['num_joints'] = 34\n",
    "train_model(config) "
   ]
  }
 ],
 "metadata": {
  "kernelspec": {
   "display_name": "base",
   "language": "python",
   "name": "python3"
  },
  "language_info": {
   "codemirror_mode": {
    "name": "ipython",
    "version": 3
   },
   "file_extension": ".py",
   "mimetype": "text/x-python",
   "name": "python",
   "nbconvert_exporter": "python",
   "pygments_lexer": "ipython3",
   "version": "3.11.9"
  }
 },
 "nbformat": 4,
 "nbformat_minor": 2
}
