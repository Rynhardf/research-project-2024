{
    "cells": [
        {
            "cell_type": "code",
            "execution_count": 1,
            "metadata": {},
            "outputs": [],
            "source": [
                "from train import train_model\n",
                "from utils import load_config"
            ]
        },
        {
            "cell_type": "code",
            "execution_count": 2,
            "metadata": {},
            "outputs": [
                {
                    "ename": "",
                    "evalue": "",
                    "output_type": "error",
                    "traceback": [
                        "\u001b[1;31mThe Kernel crashed while executing code in the current cell or a previous cell. \n",
                        "\u001b[1;31mPlease review the code in the cell(s) to identify a possible cause of the failure. \n",
                        "\u001b[1;31mClick <a href='https://aka.ms/vscodeJupyterKernelCrash'>here</a> for more info. \n",
                        "\u001b[1;31mView Jupyter <a href='command:jupyter.viewOutput'>log</a> for further details."
                    ]
                }
            ],
            "source": [
                "config = load_config('./configs/config_YOLO_x.yaml')"
            ]
        },
        {
            "cell_type": "code",
            "execution_count": 3,
            "metadata": {},
            "outputs": [
                {
                    "name": "stdout",
                    "output_type": "stream",
                    "text": [
                        "Epoch [0/5],Validation Loss: 3502676.750000, Normalized MAE: 11.332433\n",
                        "Epoch [1/5], Step [0/10], Loss: 3500362.750000, Batch Time: 55.81s\n",
                        "Epoch [1/5], Step [1/10], Loss: 3200522.750000, Batch Time: 39.00s\n",
                        "Epoch [1/5], Step [2/10], Loss: 3015673.000000, Batch Time: 23.63s\n",
                        "Epoch [1/5], Step [3/10], Loss: 2976175.500000, Batch Time: 23.35s\n",
                        "Epoch [1/5], Step [4/10], Loss: 2943708.500000, Batch Time: 23.17s\n",
                        "Epoch [1/5], Step [5/10], Loss: 2988677.500000, Batch Time: 22.01s\n",
                        "Epoch [1/5], Step [6/10], Loss: 2780522.000000, Batch Time: 22.43s\n",
                        "Epoch [1/5], Step [7/10], Loss: 2592201.500000, Batch Time: 21.92s\n",
                        "Epoch [1/5], Step [8/10], Loss: 2719128.000000, Batch Time: 21.83s\n",
                        "Epoch [1/5], Step [9/10], Loss: 2559027.000000, Batch Time: 23.24s\n",
                        "Epoch [1/5], Training Loss: 2927599.850000, Validation Loss: 576102664107464638184030208.000000, Normalized MAE: 33122431795200.000000, Epoch Time: 289.90s\n",
                        "Validation loss improved from inf to 576102664107464638184030208.000000. Saving model...\n",
                        "Checkpoint saved to runs/20240923_075905\\checkpoint_epoch_1\n"
                    ]
                }
            ],
            "source": [
                "train_model(config)"
            ]
        }
    ],
    "metadata": {
        "kernelspec": {
            "display_name": "Python 3",
            "language": "python",
            "name": "python3"
        },
        "language_info": {
            "codemirror_mode": {
                "name": "ipython",
                "version": 3
            },
            "file_extension": ".py",
            "mimetype": "text/x-python",
            "name": "python",
            "nbconvert_exporter": "python",
            "pygments_lexer": "ipython3",
            "version": "3.11.1"
        }
    },
    "nbformat": 4,
    "nbformat_minor": 2
}
